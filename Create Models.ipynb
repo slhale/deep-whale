{
 "cells": [
  {
   "cell_type": "code",
   "execution_count": 36,
   "metadata": {
    "collapsed": false
   },
   "outputs": [],
   "source": [
    "import numpy as np\n",
    "from matplotlib import pyplot as plt\n",
    "%matplotlib notebook\n",
    "\n",
    "import keras\n",
    "from keras.models import Sequential, Model\n",
    "from keras.layers import Dense, Activation, Flatten, Conv1D, MaxPooling1D, Reshape, Input"
   ]
  },
  {
   "cell_type": "markdown",
   "metadata": {},
   "source": [
    "# Make simple feed-forward models\n",
    "for just timeseries or just FFT data"
   ]
  },
  {
   "cell_type": "code",
   "execution_count": 63,
   "metadata": {
    "collapsed": false
   },
   "outputs": [
    {
     "name": "stdout",
     "output_type": "stream",
     "text": [
      "_________________________________________________________________\n",
      "Layer (type)                 Output Shape              Param #   \n",
      "=================================================================\n",
      "dense_131 (Dense)            (None, 1028)              4113028   \n",
      "_________________________________________________________________\n",
      "activation_95 (Activation)   (None, 1028)              0         \n",
      "_________________________________________________________________\n",
      "dense_132 (Dense)            (None, 64)                65856     \n",
      "_________________________________________________________________\n",
      "activation_96 (Activation)   (None, 64)                0         \n",
      "_________________________________________________________________\n",
      "dense_133 (Dense)            (None, 16)                1040      \n",
      "_________________________________________________________________\n",
      "activation_97 (Activation)   (None, 16)                0         \n",
      "_________________________________________________________________\n",
      "dense_134 (Dense)            (None, 2)                 34        \n",
      "_________________________________________________________________\n",
      "activation_98 (Activation)   (None, 2)                 0         \n",
      "=================================================================\n",
      "Total params: 4,179,958\n",
      "Trainable params: 4,179,958\n",
      "Non-trainable params: 0\n",
      "_________________________________________________________________\n"
     ]
    }
   ],
   "source": [
    "timeseries_input_shape = (4000,)\n",
    "\n",
    "timeseries_feedforward_model = Sequential([\n",
    "    Dense(1028, input_shape=timeseries_input_shape),\n",
    "    Activation('relu'),\n",
    "    Dense(64),\n",
    "    Activation('relu'),\n",
    "    Dense(16),\n",
    "    Activation('relu'),\n",
    "    Dense(2),\n",
    "    Activation('softmax'),\n",
    "])\n",
    "\n",
    "timeseries_feedforward_model.summary()"
   ]
  },
  {
   "cell_type": "code",
   "execution_count": 64,
   "metadata": {
    "collapsed": false
   },
   "outputs": [
    {
     "name": "stdout",
     "output_type": "stream",
     "text": [
      "_________________________________________________________________\n",
      "Layer (type)                 Output Shape              Param #   \n",
      "=================================================================\n",
      "flatten_27 (Flatten)         (None, 4002)              0         \n",
      "_________________________________________________________________\n",
      "dense_135 (Dense)            (None, 1028)              4115084   \n",
      "_________________________________________________________________\n",
      "activation_99 (Activation)   (None, 1028)              0         \n",
      "_________________________________________________________________\n",
      "dense_136 (Dense)            (None, 64)                65856     \n",
      "_________________________________________________________________\n",
      "activation_100 (Activation)  (None, 64)                0         \n",
      "_________________________________________________________________\n",
      "dense_137 (Dense)            (None, 16)                1040      \n",
      "_________________________________________________________________\n",
      "activation_101 (Activation)  (None, 16)                0         \n",
      "_________________________________________________________________\n",
      "dense_138 (Dense)            (None, 2)                 34        \n",
      "_________________________________________________________________\n",
      "activation_102 (Activation)  (None, 2)                 0         \n",
      "=================================================================\n",
      "Total params: 4,182,014\n",
      "Trainable params: 4,182,014\n",
      "Non-trainable params: 0\n",
      "_________________________________________________________________\n"
     ]
    }
   ],
   "source": [
    "fft_input_shape = (2001,2)\n",
    "\n",
    "fft_feedforward_model = Sequential([\n",
    "    Flatten(input_shape=fft_input_shape),\n",
    "    Dense(1028),\n",
    "    Activation('relu'),\n",
    "    Dense(64),\n",
    "    Activation('relu'),\n",
    "    Dense(16),\n",
    "    Activation('relu'),\n",
    "    Dense(2),\n",
    "    Activation('softmax'),\n",
    "])\n",
    "\n",
    "fft_feedforward_model.summary()"
   ]
  },
  {
   "cell_type": "markdown",
   "metadata": {},
   "source": [
    "# Make convolutional models\n",
    "for just timeseries or just FFT data"
   ]
  },
  {
   "cell_type": "code",
   "execution_count": 55,
   "metadata": {
    "collapsed": false
   },
   "outputs": [
    {
     "name": "stdout",
     "output_type": "stream",
     "text": [
      "_________________________________________________________________\n",
      "Layer (type)                 Output Shape              Param #   \n",
      "=================================================================\n",
      "reshape_8 (Reshape)          (None, 4000, 1)           0         \n",
      "_________________________________________________________________\n",
      "conv1d_52 (Conv1D)           (None, 4000, 64)          1088      \n",
      "_________________________________________________________________\n",
      "activation_79 (Activation)   (None, 4000, 64)          0         \n",
      "_________________________________________________________________\n",
      "max_pooling1d_33 (MaxPooling (None, 500, 64)           0         \n",
      "_________________________________________________________________\n",
      "conv1d_53 (Conv1D)           (None, 500, 16)           16400     \n",
      "_________________________________________________________________\n",
      "activation_80 (Activation)   (None, 500, 16)           0         \n",
      "_________________________________________________________________\n",
      "max_pooling1d_34 (MaxPooling (None, 62, 16)            0         \n",
      "_________________________________________________________________\n",
      "conv1d_54 (Conv1D)           (None, 62, 4)             1028      \n",
      "_________________________________________________________________\n",
      "activation_81 (Activation)   (None, 62, 4)             0         \n",
      "_________________________________________________________________\n",
      "max_pooling1d_35 (MaxPooling (None, 7, 4)              0         \n",
      "_________________________________________________________________\n",
      "flatten_17 (Flatten)         (None, 28)                0         \n",
      "_________________________________________________________________\n",
      "dense_111 (Dense)            (None, 2)                 58        \n",
      "_________________________________________________________________\n",
      "activation_82 (Activation)   (None, 2)                 0         \n",
      "=================================================================\n",
      "Total params: 18,574\n",
      "Trainable params: 18,574\n",
      "Non-trainable params: 0\n",
      "_________________________________________________________________\n"
     ]
    }
   ],
   "source": [
    "timeseries_input_shape = (4000,)\n",
    "\n",
    "timeseries_convolutional_model = Sequential([\n",
    "    Reshape((4000,1), input_shape=timeseries_input_shape),\n",
    "    Conv1D(filters=64, kernel_size=16, padding='same'),\n",
    "    Activation('relu'),\n",
    "    MaxPooling1D(pool_size=8),\n",
    "    Conv1D(filters=16, kernel_size=16, padding='same'),\n",
    "    Activation('relu'),\n",
    "    MaxPooling1D(pool_size=8),\n",
    "    Conv1D(filters=4, kernel_size=16, padding='same'),\n",
    "    Activation('relu'),\n",
    "    MaxPooling1D(pool_size=8),\n",
    "    Flatten(),\n",
    "    Dense(2),\n",
    "    Activation('softmax'),\n",
    "])\n",
    "\n",
    "timeseries_convolutional_model.summary()"
   ]
  },
  {
   "cell_type": "code",
   "execution_count": 57,
   "metadata": {
    "collapsed": false
   },
   "outputs": [
    {
     "name": "stdout",
     "output_type": "stream",
     "text": [
      "_________________________________________________________________\n",
      "Layer (type)                 Output Shape              Param #   \n",
      "=================================================================\n",
      "conv1d_58 (Conv1D)           (None, 2001, 64)          2112      \n",
      "_________________________________________________________________\n",
      "activation_87 (Activation)   (None, 2001, 64)          0         \n",
      "_________________________________________________________________\n",
      "max_pooling1d_38 (MaxPooling (None, 250, 64)           0         \n",
      "_________________________________________________________________\n",
      "conv1d_59 (Conv1D)           (None, 250, 16)           16400     \n",
      "_________________________________________________________________\n",
      "activation_88 (Activation)   (None, 250, 16)           0         \n",
      "_________________________________________________________________\n",
      "max_pooling1d_39 (MaxPooling (None, 31, 16)            0         \n",
      "_________________________________________________________________\n",
      "conv1d_60 (Conv1D)           (None, 31, 4)             1028      \n",
      "_________________________________________________________________\n",
      "activation_89 (Activation)   (None, 31, 4)             0         \n",
      "_________________________________________________________________\n",
      "max_pooling1d_40 (MaxPooling (None, 3, 4)              0         \n",
      "_________________________________________________________________\n",
      "flatten_19 (Flatten)         (None, 12)                0         \n",
      "_________________________________________________________________\n",
      "dense_113 (Dense)            (None, 2)                 26        \n",
      "_________________________________________________________________\n",
      "activation_90 (Activation)   (None, 2)                 0         \n",
      "=================================================================\n",
      "Total params: 19,566\n",
      "Trainable params: 19,566\n",
      "Non-trainable params: 0\n",
      "_________________________________________________________________\n"
     ]
    }
   ],
   "source": [
    "fft_input_shape = (2001,2)\n",
    "\n",
    "fft_convolutional_model = Sequential([\n",
    "    Conv1D(filters=64, kernel_size=16, padding='same', input_shape=fft_input_shape),\n",
    "    Activation('relu'),\n",
    "    MaxPooling1D(pool_size=8),\n",
    "    Conv1D(filters=16, kernel_size=16, padding='same'),\n",
    "    Activation('relu'),\n",
    "    MaxPooling1D(pool_size=8),\n",
    "    Conv1D(filters=4, kernel_size=16, padding='same'),\n",
    "    Activation('relu'),\n",
    "    MaxPooling1D(pool_size=8),\n",
    "    Flatten(),\n",
    "    Dense(2),\n",
    "    Activation('softmax'),\n",
    "])\n",
    "\n",
    "fft_convolutional_model.summary()"
   ]
  },
  {
   "cell_type": "markdown",
   "metadata": {},
   "source": [
    "# Make Combined Models\n",
    "This requires using the Keras functional API as opposed to the sequential API"
   ]
  },
  {
   "cell_type": "code",
   "execution_count": 60,
   "metadata": {
    "collapsed": false
   },
   "outputs": [
    {
     "name": "stdout",
     "output_type": "stream",
     "text": [
      "____________________________________________________________________________________________________\n",
      "Layer (type)                     Output Shape          Param #     Connected to                     \n",
      "====================================================================================================\n",
      "input_34 (InputLayer)            (None, 2001, 2)       0                                            \n",
      "____________________________________________________________________________________________________\n",
      "input_33 (InputLayer)            (None, 4000)          0                                            \n",
      "____________________________________________________________________________________________________\n",
      "flatten_24 (Flatten)             (None, 4002)          0           input_34[0][0]                   \n",
      "____________________________________________________________________________________________________\n",
      "dense_117 (Dense)                (None, 1028)          4113028     input_33[0][0]                   \n",
      "____________________________________________________________________________________________________\n",
      "dense_120 (Dense)                (None, 1028)          4115084     flatten_24[0][0]                 \n",
      "____________________________________________________________________________________________________\n",
      "dense_118 (Dense)                (None, 64)            65856       dense_117[0][0]                  \n",
      "____________________________________________________________________________________________________\n",
      "dense_121 (Dense)                (None, 64)            65856       dense_120[0][0]                  \n",
      "____________________________________________________________________________________________________\n",
      "dense_119 (Dense)                (None, 16)            1040        dense_118[0][0]                  \n",
      "____________________________________________________________________________________________________\n",
      "dense_122 (Dense)                (None, 16)            1040        dense_121[0][0]                  \n",
      "____________________________________________________________________________________________________\n",
      "concatenate_12 (Concatenate)     (None, 32)            0           dense_119[0][0]                  \n",
      "                                                                   dense_122[0][0]                  \n",
      "____________________________________________________________________________________________________\n",
      "dense_123 (Dense)                (None, 8)             264         concatenate_12[0][0]             \n",
      "____________________________________________________________________________________________________\n",
      "dense_124 (Dense)                (None, 2)             18          dense_123[0][0]                  \n",
      "====================================================================================================\n",
      "Total params: 8,362,186\n",
      "Trainable params: 8,362,186\n",
      "Non-trainable params: 0\n",
      "____________________________________________________________________________________________________\n"
     ]
    }
   ],
   "source": [
    "timeseries_input_shape = (4000,)\n",
    "fft_input_shape = (2001,2)\n",
    "\n",
    "timeseries_input = Input(shape=timeseries_input_shape)\n",
    "fft_input = Input(shape=fft_input_shape)\n",
    "\n",
    "timeseries_model = Dense(1028, activation='relu')(timeseries_input)\n",
    "timeseries_model = Dense(64, activation='relu')(timeseries_model)\n",
    "timeseries_model = Dense(16, activation='relu')(timeseries_model)\n",
    "\n",
    "fft_model = Flatten()(fft_input)\n",
    "fft_model = Dense(1028, activation='relu')(fft_model)\n",
    "fft_model = Dense(64, activation='relu')(fft_model)\n",
    "fft_model = Dense(16, activation='relu')(fft_model)\n",
    "\n",
    "shared_output = keras.layers.concatenate([timeseries_model, fft_model], axis=-1)\n",
    "shared_output = Dense(8, activation='relu')(shared_output)\n",
    "shared_output = Dense(2, activation='softmax')(shared_output)\n",
    "\n",
    "split_feedforward_model = Model(inputs=[timeseries_input, fft_input], outputs=shared_output)\n",
    "\n",
    "split_feedforward_model.summary()"
   ]
  },
  {
   "cell_type": "code",
   "execution_count": 61,
   "metadata": {
    "collapsed": false
   },
   "outputs": [
    {
     "name": "stdout",
     "output_type": "stream",
     "text": [
      "____________________________________________________________________________________________________\n",
      "Layer (type)                     Output Shape          Param #     Connected to                     \n",
      "====================================================================================================\n",
      "input_35 (InputLayer)            (None, 4000)          0                                            \n",
      "____________________________________________________________________________________________________\n",
      "reshape_11 (Reshape)             (None, 4000, 1)       0           input_35[0][0]                   \n",
      "____________________________________________________________________________________________________\n",
      "input_36 (InputLayer)            (None, 2001, 2)       0                                            \n",
      "____________________________________________________________________________________________________\n",
      "conv1d_73 (Conv1D)               (None, 4000, 64)      1088        reshape_11[0][0]                 \n",
      "____________________________________________________________________________________________________\n",
      "conv1d_76 (Conv1D)               (None, 2001, 64)      2112        input_36[0][0]                   \n",
      "____________________________________________________________________________________________________\n",
      "max_pooling1d_53 (MaxPooling1D)  (None, 500, 64)       0           conv1d_73[0][0]                  \n",
      "____________________________________________________________________________________________________\n",
      "max_pooling1d_56 (MaxPooling1D)  (None, 250, 64)       0           conv1d_76[0][0]                  \n",
      "____________________________________________________________________________________________________\n",
      "conv1d_74 (Conv1D)               (None, 500, 16)       16400       max_pooling1d_53[0][0]           \n",
      "____________________________________________________________________________________________________\n",
      "conv1d_77 (Conv1D)               (None, 250, 16)       16400       max_pooling1d_56[0][0]           \n",
      "____________________________________________________________________________________________________\n",
      "max_pooling1d_54 (MaxPooling1D)  (None, 62, 16)        0           conv1d_74[0][0]                  \n",
      "____________________________________________________________________________________________________\n",
      "max_pooling1d_57 (MaxPooling1D)  (None, 31, 16)        0           conv1d_77[0][0]                  \n",
      "____________________________________________________________________________________________________\n",
      "conv1d_75 (Conv1D)               (None, 62, 4)         1028        max_pooling1d_54[0][0]           \n",
      "____________________________________________________________________________________________________\n",
      "conv1d_78 (Conv1D)               (None, 31, 4)         1028        max_pooling1d_57[0][0]           \n",
      "____________________________________________________________________________________________________\n",
      "max_pooling1d_55 (MaxPooling1D)  (None, 7, 4)          0           conv1d_75[0][0]                  \n",
      "____________________________________________________________________________________________________\n",
      "max_pooling1d_58 (MaxPooling1D)  (None, 3, 4)          0           conv1d_78[0][0]                  \n",
      "____________________________________________________________________________________________________\n",
      "flatten_25 (Flatten)             (None, 28)            0           max_pooling1d_55[0][0]           \n",
      "____________________________________________________________________________________________________\n",
      "flatten_26 (Flatten)             (None, 12)            0           max_pooling1d_58[0][0]           \n",
      "____________________________________________________________________________________________________\n",
      "concatenate_13 (Concatenate)     (None, 40)            0           flatten_25[0][0]                 \n",
      "                                                                   flatten_26[0][0]                 \n",
      "____________________________________________________________________________________________________\n",
      "dense_125 (Dense)                (None, 16)            656         concatenate_13[0][0]             \n",
      "____________________________________________________________________________________________________\n",
      "dense_126 (Dense)                (None, 2)             34          dense_125[0][0]                  \n",
      "====================================================================================================\n",
      "Total params: 38,746\n",
      "Trainable params: 38,746\n",
      "Non-trainable params: 0\n",
      "____________________________________________________________________________________________________\n"
     ]
    }
   ],
   "source": [
    "timeseries_input_shape = (4000,)\n",
    "fft_input_shape = (2001,2)\n",
    "\n",
    "timeseries_input = Input(shape=timeseries_input_shape)\n",
    "fft_input = Input(shape=fft_input_shape)\n",
    "\n",
    "timeseries_model = Reshape((4000,1))(timeseries_input)\n",
    "timeseries_model = Conv1D(filters=64, kernel_size=16, padding='same', activation='relu')(timeseries_model)\n",
    "timeseries_model = MaxPooling1D(pool_size=8)(timeseries_model)\n",
    "timeseries_model = Conv1D(filters=16, kernel_size=16, padding='same', activation='relu')(timeseries_model)\n",
    "timeseries_model = MaxPooling1D(pool_size=8)(timeseries_model)\n",
    "timeseries_model = Conv1D(filters=4, kernel_size=16, padding='same', activation='relu')(timeseries_model)\n",
    "timeseries_model = MaxPooling1D(pool_size=8)(timeseries_model)\n",
    "timeseries_model = Flatten()(timeseries_model)\n",
    "\n",
    "fft_model = Conv1D(filters=64, kernel_size=16, padding='same', activation='relu')(fft_input)\n",
    "fft_model = MaxPooling1D(pool_size=8)(fft_model)\n",
    "fft_model = Conv1D(filters=16, kernel_size=16, padding='same', activation='relu')(fft_model)\n",
    "fft_model = MaxPooling1D(pool_size=8)(fft_model)\n",
    "fft_model = Conv1D(filters=4, kernel_size=16, padding='same', activation='relu')(fft_model)\n",
    "fft_model = MaxPooling1D(pool_size=8)(fft_model)\n",
    "fft_model = Flatten()(fft_model)\n",
    "\n",
    "shared_output = keras.layers.concatenate([timeseries_model, fft_model], axis=-1)\n",
    "shared_output = Dense(16, activation='relu')(shared_output)\n",
    "shared_output = Dense(2, activation='softmax')(shared_output)\n",
    "\n",
    "split_convolutional_model = Model(inputs=[timeseries_input, fft_input], outputs=shared_output)\n",
    "\n",
    "split_convolutional_model.summary()"
   ]
  },
  {
   "cell_type": "markdown",
   "metadata": {},
   "source": [
    "# Save all the models"
   ]
  },
  {
   "cell_type": "code",
   "execution_count": 65,
   "metadata": {
    "collapsed": true
   },
   "outputs": [],
   "source": [
    "with open('timeseries_feedforward_model.json', 'w') as text_file:\n",
    "    text_file.write(timeseries_feedforward_model.to_json())\n",
    "\n",
    "with open('fft_feedforward_model.json', 'w') as text_file:\n",
    "    text_file.write(fft_feedforward_model.to_json())\n",
    "\n",
    "with open('split_feedforward_model.json', 'w') as text_file:\n",
    "    text_file.write(split_feedforward_model.to_json())\n",
    "\n",
    "with open('timeseries_convolutional_model.json', 'w') as text_file:\n",
    "    text_file.write(timeseries_convolutional_model.to_json())\n",
    "\n",
    "with open('fft_convolutional_model.json', 'w') as text_file:\n",
    "    text_file.write(fft_convolutional_model.to_json())\n",
    "\n",
    "with open('split_convolutional_model.json', 'w') as text_file:\n",
    "    text_file.write(split_convolutional_model.to_json())"
   ]
  },
  {
   "cell_type": "code",
   "execution_count": null,
   "metadata": {
    "collapsed": true
   },
   "outputs": [],
   "source": []
  }
 ],
 "metadata": {
  "kernelspec": {
   "display_name": "Python 2",
   "language": "python",
   "name": "python2"
  },
  "language_info": {
   "codemirror_mode": {
    "name": "ipython",
    "version": 2
   },
   "file_extension": ".py",
   "mimetype": "text/x-python",
   "name": "python",
   "nbconvert_exporter": "python",
   "pygments_lexer": "ipython2",
   "version": "2.7.12"
  }
 },
 "nbformat": 4,
 "nbformat_minor": 2
}
