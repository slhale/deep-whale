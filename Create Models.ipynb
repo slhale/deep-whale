{
 "cells": [
  {
   "cell_type": "code",
   "execution_count": null,
   "metadata": {},
   "outputs": [],
   "source": [
    "import numpy as np\n",
    "from matplotlib import pyplot as plt\n",
    "%matplotlib notebook\n",
    "\n",
    "import keras\n",
    "from keras.models import Sequential, Model\n",
    "from keras.layers import Dense, Activation, Flatten, Conv1D, MaxPooling1D, Reshape, Input"
   ]
  },
  {
   "cell_type": "markdown",
   "metadata": {},
   "source": [
    "# Make simple feed-forward models\n",
    "for just timeseries or just FFT data"
   ]
  },
  {
   "cell_type": "code",
   "execution_count": null,
   "metadata": {},
   "outputs": [],
   "source": [
    "timeseries_input_shape = (4000,)\n",
    "\n",
    "timeseries_feedforward_model = Sequential([\n",
    "    Dense(1028, input_shape=timeseries_input_shape),\n",
    "    Activation('relu'),\n",
    "    Dense(64),\n",
    "    Activation('relu'),\n",
    "    Dense(16),\n",
    "    Activation('relu'),\n",
    "    Dense(2),\n",
    "    Activation('softmax'),\n",
    "])\n",
    "\n",
    "timeseries_feedforward_model.summary()"
   ]
  },
  {
   "cell_type": "code",
   "execution_count": null,
   "metadata": {},
   "outputs": [],
   "source": [
    "fft_input_shape = (2001,2)\n",
    "\n",
    "fft_feedforward_model = Sequential([\n",
    "    Flatten(input_shape=fft_input_shape),\n",
    "    Dense(1028),\n",
    "    Activation('relu'),\n",
    "    Dense(64),\n",
    "    Activation('relu'),\n",
    "    Dense(16),\n",
    "    Activation('relu'),\n",
    "    Dense(2),\n",
    "    Activation('softmax'),\n",
    "])\n",
    "\n",
    "fft_feedforward_model.summary()"
   ]
  },
  {
   "cell_type": "markdown",
   "metadata": {},
   "source": [
    "# Make convolutional models\n",
    "for just timeseries or just FFT data"
   ]
  },
  {
   "cell_type": "code",
   "execution_count": null,
   "metadata": {},
   "outputs": [],
   "source": [
    "timeseries_input_shape = (4000,)\n",
    "\n",
    "timeseries_convolutional_model = Sequential([\n",
    "    Reshape((4000,1), input_shape=timeseries_input_shape),\n",
    "    Conv1D(filters=64, kernel_size=16, padding='same'),\n",
    "    Activation('relu'),\n",
    "    MaxPooling1D(pool_size=8),\n",
    "    Conv1D(filters=16, kernel_size=16, padding='same'),\n",
    "    Activation('relu'),\n",
    "    MaxPooling1D(pool_size=8),\n",
    "    Conv1D(filters=4, kernel_size=16, padding='same'),\n",
    "    Activation('relu'),\n",
    "    MaxPooling1D(pool_size=8),\n",
    "    Flatten(),\n",
    "    Dense(2),\n",
    "    Activation('softmax'),\n",
    "])\n",
    "\n",
    "timeseries_convolutional_model.summary()"
   ]
  },
  {
   "cell_type": "code",
   "execution_count": null,
   "metadata": {},
   "outputs": [],
   "source": [
    "fft_input_shape = (2001,2)\n",
    "\n",
    "fft_convolutional_model = Sequential([\n",
    "    Conv1D(filters=64, kernel_size=16, padding='same', input_shape=fft_input_shape),\n",
    "    Activation('relu'),\n",
    "    MaxPooling1D(pool_size=8),\n",
    "    Conv1D(filters=16, kernel_size=16, padding='same'),\n",
    "    Activation('relu'),\n",
    "    MaxPooling1D(pool_size=8),\n",
    "    Conv1D(filters=4, kernel_size=16, padding='same'),\n",
    "    Activation('relu'),\n",
    "    MaxPooling1D(pool_size=8),\n",
    "    Flatten(),\n",
    "    Dense(2),\n",
    "    Activation('softmax'),\n",
    "])\n",
    "\n",
    "fft_convolutional_model.summary()"
   ]
  },
  {
   "cell_type": "markdown",
   "metadata": {},
   "source": [
    "# Make Combined Models\n",
    "This requires using the Keras functional API as opposed to the sequential API"
   ]
  },
  {
   "cell_type": "code",
   "execution_count": null,
   "metadata": {},
   "outputs": [],
   "source": [
    "timeseries_input_shape = (4000,)\n",
    "fft_input_shape = (2001,2)\n",
    "\n",
    "timeseries_input = Input(shape=timeseries_input_shape)\n",
    "fft_input = Input(shape=fft_input_shape)\n",
    "\n",
    "timeseries_model = Dense(1028, activation='relu')(timeseries_input)\n",
    "timeseries_model = Dense(64, activation='relu')(timeseries_model)\n",
    "timeseries_model = Dense(16, activation='relu')(timeseries_model)\n",
    "\n",
    "fft_model = Flatten()(fft_input)\n",
    "fft_model = Dense(1028, activation='relu')(fft_model)\n",
    "fft_model = Dense(64, activation='relu')(fft_model)\n",
    "fft_model = Dense(16, activation='relu')(fft_model)\n",
    "\n",
    "shared_output = keras.layers.concatenate([timeseries_model, fft_model], axis=-1)\n",
    "shared_output = Dense(8, activation='relu')(shared_output)\n",
    "shared_output = Dense(2, activation='softmax')(shared_output)\n",
    "\n",
    "split_feedforward_model = Model(inputs=[timeseries_input, fft_input], outputs=shared_output)\n",
    "\n",
    "split_feedforward_model.summary()"
   ]
  },
  {
   "cell_type": "code",
   "execution_count": null,
   "metadata": {},
   "outputs": [],
   "source": [
    "timeseries_input_shape = (4000,)\n",
    "fft_input_shape = (2001,2)\n",
    "\n",
    "timeseries_input = Input(shape=timeseries_input_shape)\n",
    "fft_input = Input(shape=fft_input_shape)\n",
    "\n",
    "timeseries_model = Reshape((4000,1))(timeseries_input)\n",
    "timeseries_model = Conv1D(filters=64, kernel_size=16, padding='same', activation='relu')(timeseries_model)\n",
    "timeseries_model = MaxPooling1D(pool_size=8)(timeseries_model)\n",
    "timeseries_model = Conv1D(filters=16, kernel_size=16, padding='same', activation='relu')(timeseries_model)\n",
    "timeseries_model = MaxPooling1D(pool_size=8)(timeseries_model)\n",
    "timeseries_model = Conv1D(filters=4, kernel_size=16, padding='same', activation='relu')(timeseries_model)\n",
    "timeseries_model = MaxPooling1D(pool_size=8)(timeseries_model)\n",
    "timeseries_model = Flatten()(timeseries_model)\n",
    "\n",
    "fft_model = Conv1D(filters=64, kernel_size=16, padding='same', activation='relu')(fft_input)\n",
    "fft_model = MaxPooling1D(pool_size=8)(fft_model)\n",
    "fft_model = Conv1D(filters=16, kernel_size=16, padding='same', activation='relu')(fft_model)\n",
    "fft_model = MaxPooling1D(pool_size=8)(fft_model)\n",
    "fft_model = Conv1D(filters=4, kernel_size=16, padding='same', activation='relu')(fft_model)\n",
    "fft_model = MaxPooling1D(pool_size=8)(fft_model)\n",
    "fft_model = Flatten()(fft_model)\n",
    "\n",
    "shared_output = keras.layers.concatenate([timeseries_model, fft_model], axis=-1)\n",
    "shared_output = Dense(16, activation='relu')(shared_output)\n",
    "shared_output = Dense(2, activation='softmax')(shared_output)\n",
    "\n",
    "split_convolutional_model = Model(inputs=[timeseries_input, fft_input], outputs=shared_output)\n",
    "\n",
    "split_convolutional_model.summary()"
   ]
  },
  {
   "cell_type": "markdown",
   "metadata": {},
   "source": [
    "# Save all the models"
   ]
  },
  {
   "cell_type": "code",
   "execution_count": null,
   "metadata": {},
   "outputs": [],
   "source": [
    "with open('timeseries_feedforward_model.json', 'w') as text_file:\n",
    "    text_file.write(timeseries_feedforward_model.to_json())\n",
    "\n",
    "with open('fft_feedforward_model.json', 'w') as text_file:\n",
    "    text_file.write(fft_feedforward_model.to_json())\n",
    "\n",
    "with open('split_feedforward_model.json', 'w') as text_file:\n",
    "    text_file.write(split_feedforward_model.to_json())\n",
    "\n",
    "with open('timeseries_convolutional_model.json', 'w') as text_file:\n",
    "    text_file.write(timeseries_convolutional_model.to_json())\n",
    "\n",
    "with open('fft_convolutional_model.json', 'w') as text_file:\n",
    "    text_file.write(fft_convolutional_model.to_json())\n",
    "\n",
    "with open('split_convolutional_model.json', 'w') as text_file:\n",
    "    text_file.write(split_convolutional_model.to_json())"
   ]
  },
  {
   "cell_type": "code",
   "execution_count": null,
   "metadata": {},
   "outputs": [],
   "source": []
  }
 ],
 "metadata": {
  "language_info": {
   "name": "python",
   "pygments_lexer": "ipython2"
  }
 },
 "nbformat": 4,
 "nbformat_minor": 2
}
